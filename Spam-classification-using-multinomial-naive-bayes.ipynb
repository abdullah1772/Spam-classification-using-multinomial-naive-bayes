{
 "cells": [
  {
   "cell_type": "code",
   "execution_count": null,
   "metadata": {
    "_cell_guid": "b1076dfc-b9ad-4769-8c92-a6c4dae69d19",
    "_uuid": "8f2839f25d086af736a60e9eeb907d3b93b6e0e5",
    "execution": {
     "iopub.execute_input": "2022-12-04T15:05:17.363528Z",
     "iopub.status.busy": "2022-12-04T15:05:17.362757Z",
     "iopub.status.idle": "2022-12-04T15:05:18.791779Z",
     "shell.execute_reply": "2022-12-04T15:05:18.790006Z",
     "shell.execute_reply.started": "2022-12-04T15:05:17.363454Z"
    }
   },
   "outputs": [],
   "source": [
    "#Import all libraries\n",
    "import numpy as np\n",
    "import pandas as pd\n",
    "import nltk\n",
    "import matplotlib.pyplot as plt\n",
    "from wordcloud import WordCloud\n",
    "from wordcloud import WordCloud, STOPWORDS\n",
    "import string\n",
    "import seaborn as sns\n",
    "import plotly.graph_objects as go\n",
    "from sklearn.decomposition import PCA\n",
    "from gensim.models import Word2Vec, FastText\n",
    "import warnings\n",
    "from sklearn.model_selection import train_test_split\n",
    "from sklearn.feature_extraction.text import CountVectorizer\n",
    "from sklearn.naive_bayes import MultinomialNB\n",
    "from sklearn.pipeline import Pipeline\n",
    "from sklearn.metrics import accuracy_score, confusion_matrix , classification_report\n",
    "warnings.filterwarnings('ignore')"
   ]
  },
  {
   "cell_type": "code",
   "execution_count": null,
   "metadata": {},
   "outputs": [],
   "source": [
    "#creating word cloud for given corpus  \n",
    "def make_wordcloud(corpus , stopword):\n",
    "    word_cloud = WordCloud(\n",
    "            width=3000,\n",
    "            height=2000,\n",
    "            random_state=1,\n",
    "            background_color=\"black\",\n",
    "            colormap=\"Pastel1\",\n",
    "            collocations=False,\n",
    "            stopwords=stopword,\n",
    "            ).generate(corpus)\n",
    "    return word_cloud"
   ]
  },
  {
   "cell_type": "code",
   "execution_count": null,
   "metadata": {
    "execution": {
     "iopub.execute_input": "2022-12-04T15:05:18.801039Z",
     "iopub.status.busy": "2022-12-04T15:05:18.800434Z",
     "iopub.status.idle": "2022-12-04T15:05:18.809240Z",
     "shell.execute_reply": "2022-12-04T15:05:18.808045Z",
     "shell.execute_reply.started": "2022-12-04T15:05:18.800985Z"
    }
   },
   "outputs": [],
   "source": [
    "#This function swaps 2 columns inside the dataframe\n",
    "def swap_columns(df, col1, col2):\n",
    "    col_list = list(df.columns)\n",
    "    x, y = col_list.index(col1), col_list.index(col2)\n",
    "    col_list[y], col_list[x] = col_list[x], col_list[y]\n",
    "    df = df[col_list]\n",
    "    return df"
   ]
  },
  {
   "cell_type": "code",
   "execution_count": null,
   "metadata": {
    "execution": {
     "iopub.execute_input": "2022-12-04T15:05:18.812022Z",
     "iopub.status.busy": "2022-12-04T15:05:18.810608Z",
     "iopub.status.idle": "2022-12-04T15:05:18.822491Z",
     "shell.execute_reply": "2022-12-04T15:05:18.821563Z",
     "shell.execute_reply.started": "2022-12-04T15:05:18.811984Z"
    }
   },
   "outputs": [],
   "source": [
    "#This function removes punctuation from string\n",
    "def remove_punctuations(text):\n",
    "    for punctuation in string.punctuation:\n",
    "        text = text.replace(punctuation, '')\n",
    "    return text"
   ]
  },
  {
   "cell_type": "code",
   "execution_count": null,
   "metadata": {
    "execution": {
     "iopub.execute_input": "2022-12-04T15:05:18.826245Z",
     "iopub.status.busy": "2022-12-04T15:05:18.824983Z",
     "iopub.status.idle": "2022-12-04T15:05:18.980658Z",
     "shell.execute_reply": "2022-12-04T15:05:18.979628Z",
     "shell.execute_reply.started": "2022-12-04T15:05:18.826126Z"
    }
   },
   "outputs": [],
   "source": [
    "#Reading dataset\n",
    "Email_dataset = pd.read_csv(\"../spam_ham_dataset.csv\")"
   ]
  },
  {
   "cell_type": "code",
   "execution_count": null,
   "metadata": {
    "execution": {
     "iopub.execute_input": "2022-12-04T15:05:18.982636Z",
     "iopub.status.busy": "2022-12-04T15:05:18.982056Z",
     "iopub.status.idle": "2022-12-04T15:05:18.998724Z",
     "shell.execute_reply": "2022-12-04T15:05:18.997831Z",
     "shell.execute_reply.started": "2022-12-04T15:05:18.982601Z"
    }
   },
   "outputs": [],
   "source": [
    "#Show dataset\n",
    "Email_dataset.head()"
   ]
  },
  {
   "cell_type": "code",
   "execution_count": null,
   "metadata": {
    "execution": {
     "iopub.execute_input": "2022-12-04T15:05:19.001120Z",
     "iopub.status.busy": "2022-12-04T15:05:18.999860Z",
     "iopub.status.idle": "2022-12-04T15:05:19.016222Z",
     "shell.execute_reply": "2022-12-04T15:05:19.014569Z",
     "shell.execute_reply.started": "2022-12-04T15:05:19.001078Z"
    }
   },
   "outputs": [],
   "source": [
    "s=Email_dataset[\"label\"].value_counts()\n",
    "s"
   ]
  },
  {
   "cell_type": "code",
   "execution_count": null,
   "metadata": {
    "execution": {
     "iopub.execute_input": "2022-12-04T15:05:19.019778Z",
     "iopub.status.busy": "2022-12-04T15:05:19.019067Z",
     "iopub.status.idle": "2022-12-04T15:05:19.250526Z",
     "shell.execute_reply": "2022-12-04T15:05:19.249142Z",
     "shell.execute_reply.started": "2022-12-04T15:05:19.019580Z"
    }
   },
   "outputs": [],
   "source": [
    "sns.countplot(Email_dataset[\"label\"])\n",
    "plt.show"
   ]
  },
  {
   "cell_type": "code",
   "execution_count": null,
   "metadata": {
    "execution": {
     "iopub.execute_input": "2022-12-04T15:05:19.253117Z",
     "iopub.status.busy": "2022-12-04T15:05:19.252623Z",
     "iopub.status.idle": "2022-12-04T15:05:19.265112Z",
     "shell.execute_reply": "2022-12-04T15:05:19.263461Z",
     "shell.execute_reply.started": "2022-12-04T15:05:19.253072Z"
    }
   },
   "outputs": [],
   "source": [
    "#Dropping columns that are not needed\n",
    "Email_dataset = Email_dataset.drop('Unnamed: 0', axis=1)\n",
    "Email_dataset = Email_dataset.drop('label', axis=1)"
   ]
  },
  {
   "cell_type": "code",
   "execution_count": null,
   "metadata": {
    "execution": {
     "iopub.execute_input": "2022-12-04T15:05:19.267786Z",
     "iopub.status.busy": "2022-12-04T15:05:19.267297Z",
     "iopub.status.idle": "2022-12-04T15:05:19.284124Z",
     "shell.execute_reply": "2022-12-04T15:05:19.282484Z",
     "shell.execute_reply.started": "2022-12-04T15:05:19.267751Z"
    }
   },
   "outputs": [],
   "source": [
    "Email_dataset.head()"
   ]
  },
  {
   "cell_type": "code",
   "execution_count": null,
   "metadata": {
    "execution": {
     "iopub.execute_input": "2022-12-04T15:05:19.286463Z",
     "iopub.status.busy": "2022-12-04T15:05:19.286070Z",
     "iopub.status.idle": "2022-12-04T15:05:19.382720Z",
     "shell.execute_reply": "2022-12-04T15:05:19.381456Z",
     "shell.execute_reply.started": "2022-12-04T15:05:19.286406Z"
    }
   },
   "outputs": [],
   "source": [
    "#Creating a new feature, extracting subject of each email\n",
    "subjects = []\n",
    "for i in range(len(Email_dataset)):\n",
    "    ln = Email_dataset[\"text\"][i]\n",
    "    line = \"\"\n",
    "    for i in ln:\n",
    "        if(i == '\\r'):\n",
    "            break\n",
    "        line = line + i\n",
    "    line = line.replace(\"Subject\" , \"\")\n",
    "    subjects.append(line)"
   ]
  },
  {
   "cell_type": "code",
   "execution_count": null,
   "metadata": {
    "execution": {
     "iopub.execute_input": "2022-12-04T15:05:19.387619Z",
     "iopub.status.busy": "2022-12-04T15:05:19.387215Z",
     "iopub.status.idle": "2022-12-04T15:05:19.395723Z",
     "shell.execute_reply": "2022-12-04T15:05:19.394390Z",
     "shell.execute_reply.started": "2022-12-04T15:05:19.387586Z"
    }
   },
   "outputs": [],
   "source": [
    "Email_dataset['Subject'] = subjects"
   ]
  },
  {
   "cell_type": "code",
   "execution_count": null,
   "metadata": {
    "execution": {
     "iopub.execute_input": "2022-12-04T15:05:19.400879Z",
     "iopub.status.busy": "2022-12-04T15:05:19.400313Z",
     "iopub.status.idle": "2022-12-04T15:05:19.411586Z",
     "shell.execute_reply": "2022-12-04T15:05:19.409519Z",
     "shell.execute_reply.started": "2022-12-04T15:05:19.400837Z"
    }
   },
   "outputs": [],
   "source": [
    "#Renaming the dataframe columns\n",
    "Email_dataset.columns = [\"Email_text\" , \"Labels\" , \"Email_Subject\"]"
   ]
  },
  {
   "cell_type": "code",
   "execution_count": null,
   "metadata": {
    "execution": {
     "iopub.execute_input": "2022-12-04T15:05:19.420621Z",
     "iopub.status.busy": "2022-12-04T15:05:19.420043Z",
     "iopub.status.idle": "2022-12-04T15:05:19.434679Z",
     "shell.execute_reply": "2022-12-04T15:05:19.433506Z",
     "shell.execute_reply.started": "2022-12-04T15:05:19.420580Z"
    }
   },
   "outputs": [],
   "source": [
    "Email_dataset.head()"
   ]
  },
  {
   "cell_type": "code",
   "execution_count": null,
   "metadata": {
    "execution": {
     "iopub.execute_input": "2022-12-04T15:05:19.436564Z",
     "iopub.status.busy": "2022-12-04T15:05:19.436156Z",
     "iopub.status.idle": "2022-12-04T15:05:19.450855Z",
     "shell.execute_reply": "2022-12-04T15:05:19.449122Z",
     "shell.execute_reply.started": "2022-12-04T15:05:19.436529Z"
    }
   },
   "outputs": [],
   "source": [
    "#Swapping the dataframe columns \n",
    "Email_dataset = swap_columns(Email_dataset, 'Labels', 'Email_Subject')"
   ]
  },
  {
   "cell_type": "code",
   "execution_count": null,
   "metadata": {
    "execution": {
     "iopub.execute_input": "2022-12-04T15:05:19.455337Z",
     "iopub.status.busy": "2022-12-04T15:05:19.454384Z",
     "iopub.status.idle": "2022-12-04T15:05:19.471481Z",
     "shell.execute_reply": "2022-12-04T15:05:19.470144Z",
     "shell.execute_reply.started": "2022-12-04T15:05:19.455284Z"
    }
   },
   "outputs": [],
   "source": [
    "Email_dataset.head()"
   ]
  },
  {
   "cell_type": "code",
   "execution_count": null,
   "metadata": {
    "execution": {
     "iopub.execute_input": "2022-12-04T15:05:19.474844Z",
     "iopub.status.busy": "2022-12-04T15:05:19.473571Z",
     "iopub.status.idle": "2022-12-04T15:05:19.497210Z",
     "shell.execute_reply": "2022-12-04T15:05:19.495933Z",
     "shell.execute_reply.started": "2022-12-04T15:05:19.474804Z"
    }
   },
   "outputs": [],
   "source": [
    "#Converting all strings to lowercase\n",
    "Email_dataset['Email_Subject'] = Email_dataset['Email_Subject'].str.lower()\n",
    "Email_dataset['Email_text'] = Email_dataset['Email_text'].str.lower()"
   ]
  },
  {
   "cell_type": "code",
   "execution_count": null,
   "metadata": {
    "execution": {
     "iopub.execute_input": "2022-12-04T15:05:19.499700Z",
     "iopub.status.busy": "2022-12-04T15:05:19.499073Z",
     "iopub.status.idle": "2022-12-04T15:05:19.797518Z",
     "shell.execute_reply": "2022-12-04T15:05:19.795992Z",
     "shell.execute_reply.started": "2022-12-04T15:05:19.499634Z"
    }
   },
   "outputs": [],
   "source": [
    "#Removing Punctuation from the data\n",
    "Email_dataset['Email_Subject'] = Email_dataset['Email_Subject'].apply(remove_punctuations)\n",
    "Email_dataset['Email_text'] = Email_dataset['Email_text'].apply(remove_punctuations)"
   ]
  },
  {
   "cell_type": "code",
   "execution_count": null,
   "metadata": {
    "execution": {
     "iopub.execute_input": "2022-12-04T15:05:19.799791Z",
     "iopub.status.busy": "2022-12-04T15:05:19.799276Z",
     "iopub.status.idle": "2022-12-04T15:05:19.817633Z",
     "shell.execute_reply": "2022-12-04T15:05:19.815927Z",
     "shell.execute_reply.started": "2022-12-04T15:05:19.799755Z"
    }
   },
   "outputs": [],
   "source": [
    "Email_dataset.head()"
   ]
  },
  {
   "cell_type": "code",
   "execution_count": null,
   "metadata": {
    "execution": {
     "iopub.execute_input": "2022-12-04T15:05:19.820110Z",
     "iopub.status.busy": "2022-12-04T15:05:19.819426Z",
     "iopub.status.idle": "2022-12-04T15:05:19.835429Z",
     "shell.execute_reply": "2022-12-04T15:05:19.833710Z",
     "shell.execute_reply.started": "2022-12-04T15:05:19.819908Z"
    }
   },
   "outputs": [],
   "source": [
    "#Creting seprate dataset for Spam and Non Spam emails, to perform analysis \n",
    "Spam = pd.DataFrame(columns = ['Email_text', 'Email_Subject', 'Labels'])\n",
    "Non_Spam = pd.DataFrame(columns = ['Email_text', 'Email_Subject', 'Labels'])"
   ]
  },
  {
   "cell_type": "code",
   "execution_count": null,
   "metadata": {
    "execution": {
     "iopub.execute_input": "2022-12-04T15:05:19.838034Z",
     "iopub.status.busy": "2022-12-04T15:05:19.837399Z",
     "iopub.status.idle": "2022-12-04T15:05:29.259126Z",
     "shell.execute_reply": "2022-12-04T15:05:29.257487Z",
     "shell.execute_reply.started": "2022-12-04T15:05:19.837988Z"
    }
   },
   "outputs": [],
   "source": [
    "#Creating Non_Spam email dataset \n",
    "for i in range(len(Email_dataset)):\n",
    "    if(Email_dataset['Labels'][i] == 0):\n",
    "        new_row = {'Email_text':Email_dataset['Email_text'][i], 'Email_Subject':Email_dataset['Email_Subject'][i], 'Labels':Email_dataset['Labels'][i]}\n",
    "        Non_Spam = Non_Spam.append(new_row, ignore_index=True)"
   ]
  },
  {
   "cell_type": "code",
   "execution_count": null,
   "metadata": {
    "execution": {
     "iopub.execute_input": "2022-12-04T15:05:29.262411Z",
     "iopub.status.busy": "2022-12-04T15:05:29.261017Z",
     "iopub.status.idle": "2022-12-04T15:05:33.035261Z",
     "shell.execute_reply": "2022-12-04T15:05:33.034271Z",
     "shell.execute_reply.started": "2022-12-04T15:05:29.262366Z"
    }
   },
   "outputs": [],
   "source": [
    "#Creating Spam email dataset \n",
    "for i in range(len(Email_dataset)):\n",
    "    if(Email_dataset['Labels'][i] == 1):\n",
    "        new_row = {'Email_text':Email_dataset['Email_text'][i], 'Email_Subject':Email_dataset['Email_Subject'][i], 'Labels':Email_dataset['Labels'][i]}\n",
    "        Spam = Spam.append(new_row, ignore_index=True)"
   ]
  },
  {
   "cell_type": "code",
   "execution_count": null,
   "metadata": {
    "execution": {
     "iopub.execute_input": "2022-12-04T15:05:33.037003Z",
     "iopub.status.busy": "2022-12-04T15:05:33.036632Z",
     "iopub.status.idle": "2022-12-04T15:05:33.051280Z",
     "shell.execute_reply": "2022-12-04T15:05:33.049536Z",
     "shell.execute_reply.started": "2022-12-04T15:05:33.036968Z"
    }
   },
   "outputs": [],
   "source": [
    "Spam.head()"
   ]
  },
  {
   "cell_type": "code",
   "execution_count": null,
   "metadata": {
    "execution": {
     "iopub.execute_input": "2022-12-04T15:05:33.053253Z",
     "iopub.status.busy": "2022-12-04T15:05:33.052881Z",
     "iopub.status.idle": "2022-12-04T15:05:33.072699Z",
     "shell.execute_reply": "2022-12-04T15:05:33.071232Z",
     "shell.execute_reply.started": "2022-12-04T15:05:33.053219Z"
    }
   },
   "outputs": [],
   "source": [
    "Non_Spam.head()"
   ]
  },
  {
   "cell_type": "code",
   "execution_count": null,
   "metadata": {
    "execution": {
     "iopub.execute_input": "2022-12-04T15:05:33.075552Z",
     "iopub.status.busy": "2022-12-04T15:05:33.074610Z",
     "iopub.status.idle": "2022-12-04T15:05:33.088330Z",
     "shell.execute_reply": "2022-12-04T15:05:33.085081Z",
     "shell.execute_reply.started": "2022-12-04T15:05:33.075511Z"
    }
   },
   "outputs": [],
   "source": [
    "#creating stopwords corpus\n",
    "more_stopwords = {'re' , 's' , 'subject','hpl','hou','enron'}\n",
    "STOPWORDS = STOPWORDS.union(more_stopwords)"
   ]
  },
  {
   "cell_type": "code",
   "execution_count": null,
   "metadata": {
    "execution": {
     "iopub.execute_input": "2022-12-04T15:05:33.091193Z",
     "iopub.status.busy": "2022-12-04T15:05:33.090557Z",
     "iopub.status.idle": "2022-12-04T15:05:33.115609Z",
     "shell.execute_reply": "2022-12-04T15:05:33.113947Z",
     "shell.execute_reply.started": "2022-12-04T15:05:33.091137Z"
    }
   },
   "outputs": [],
   "source": [
    "#creating spam subject corpus \n",
    "Subject_corpus_spam = \"\"\n",
    "for i in range(len(Spam)):\n",
    "    Subject_corpus_spam = Subject_corpus_spam + Spam['Email_Subject'][i]"
   ]
  },
  {
   "cell_type": "code",
   "execution_count": null,
   "metadata": {
    "execution": {
     "iopub.execute_input": "2022-12-04T15:05:33.119832Z",
     "iopub.status.busy": "2022-12-04T15:05:33.118106Z",
     "iopub.status.idle": "2022-12-04T15:05:33.153183Z",
     "shell.execute_reply": "2022-12-04T15:05:33.151698Z",
     "shell.execute_reply.started": "2022-12-04T15:05:33.119771Z"
    }
   },
   "outputs": [],
   "source": [
    "#creating spam text corpus \n",
    "Text_corpus_spam = \"\"\n",
    "for i in range(len(Spam)):\n",
    "    Text_corpus_spam = Text_corpus_spam + Spam['Email_text'][i]"
   ]
  },
  {
   "cell_type": "code",
   "execution_count": null,
   "metadata": {
    "execution": {
     "iopub.execute_input": "2022-12-04T15:05:33.156702Z",
     "iopub.status.busy": "2022-12-04T15:05:33.155758Z",
     "iopub.status.idle": "2022-12-04T15:05:33.194817Z",
     "shell.execute_reply": "2022-12-04T15:05:33.193033Z",
     "shell.execute_reply.started": "2022-12-04T15:05:33.156650Z"
    }
   },
   "outputs": [],
   "source": [
    "#creating non-spam subject corpus \n",
    "Subject_corpus_non_spam = \"\"\n",
    "for i in range(len(Non_Spam)):\n",
    "    Subject_corpus_non_spam = Subject_corpus_non_spam + Non_Spam['Email_Subject'][i]"
   ]
  },
  {
   "cell_type": "code",
   "execution_count": null,
   "metadata": {
    "execution": {
     "iopub.execute_input": "2022-12-04T15:05:33.197867Z",
     "iopub.status.busy": "2022-12-04T15:05:33.197126Z",
     "iopub.status.idle": "2022-12-04T15:05:33.248314Z",
     "shell.execute_reply": "2022-12-04T15:05:33.246745Z",
     "shell.execute_reply.started": "2022-12-04T15:05:33.197811Z"
    }
   },
   "outputs": [],
   "source": [
    "#creating non-spam text corpus \n",
    "Text_corpus_non_spam = \"\"\n",
    "for i in range(len(Non_Spam)):\n",
    "    Text_corpus_non_spam = Text_corpus_non_spam + Non_Spam['Email_text'][i]"
   ]
  },
  {
   "cell_type": "code",
   "execution_count": null,
   "metadata": {
    "execution": {
     "iopub.execute_input": "2022-12-04T15:05:46.698744Z",
     "iopub.status.busy": "2022-12-04T15:05:46.698308Z",
     "iopub.status.idle": "2022-12-04T15:05:49.495820Z",
     "shell.execute_reply": "2022-12-04T15:05:49.494725Z",
     "shell.execute_reply.started": "2022-12-04T15:05:46.698707Z"
    }
   },
   "outputs": [],
   "source": [
    "#plotting word cloud for Spam Subject corpus\n",
    "Spam_Subject_wordcloud = make_wordcloud (Subject_corpus_spam , STOPWORDS)\n",
    "plt.figure(figsize=(13, 13))\n",
    "plt.title(\"Most common words in Spam email Subjects\", fontdict={'size': 20, 'color': 'black', \n",
    "                                  'verticalalignment': 'bottom'})\n",
    "plt.imshow(Spam_Subject_wordcloud)\n",
    "plt.axis(\"off\")\n",
    "plt.show()"
   ]
  },
  {
   "cell_type": "code",
   "execution_count": null,
   "metadata": {
    "execution": {
     "iopub.execute_input": "2022-12-04T15:06:03.453288Z",
     "iopub.status.busy": "2022-12-04T15:06:03.452236Z",
     "iopub.status.idle": "2022-12-04T15:06:06.129082Z",
     "shell.execute_reply": "2022-12-04T15:06:06.127793Z",
     "shell.execute_reply.started": "2022-12-04T15:06:03.453232Z"
    }
   },
   "outputs": [],
   "source": [
    "#plotting word cloud for Spam Text corpus\n",
    "Spam_Text_wordcloud = make_wordcloud (Text_corpus_spam , STOPWORDS)\n",
    "plt.figure(figsize=(13, 13))\n",
    "plt.title(\"Most common words in Spam email\", fontdict={'size': 20, 'color': 'black', \n",
    "                                  'verticalalignment': 'bottom'})\n",
    "plt.imshow(Spam_Text_wordcloud)\n",
    "plt.axis(\"off\")\n",
    "plt.show()"
   ]
  },
  {
   "cell_type": "code",
   "execution_count": null,
   "metadata": {
    "execution": {
     "iopub.execute_input": "2022-12-04T15:06:20.986323Z",
     "iopub.status.busy": "2022-12-04T15:06:20.985926Z",
     "iopub.status.idle": "2022-12-04T15:06:23.725576Z",
     "shell.execute_reply": "2022-12-04T15:06:23.724351Z",
     "shell.execute_reply.started": "2022-12-04T15:06:20.986291Z"
    }
   },
   "outputs": [],
   "source": [
    "#plotting word cloud for Non Spam Subject corpus\n",
    "Non_Spam_Subject_wordcloud = make_wordcloud (Subject_corpus_non_spam , STOPWORDS)\n",
    "plt.figure(figsize=(13, 13))\n",
    "plt.title(\"Most common words in NON-Spam email subject\", fontdict={'size': 20, 'color': 'black', \n",
    "                                  'verticalalignment': 'bottom'})\n",
    "plt.imshow(Non_Spam_Subject_wordcloud)\n",
    "plt.axis(\"off\")\n",
    "plt.show()"
   ]
  },
  {
   "cell_type": "code",
   "execution_count": null,
   "metadata": {
    "execution": {
     "iopub.execute_input": "2022-12-04T15:06:40.311219Z",
     "iopub.status.busy": "2022-12-04T15:06:40.309984Z",
     "iopub.status.idle": "2022-12-04T15:06:42.974463Z",
     "shell.execute_reply": "2022-12-04T15:06:42.972984Z",
     "shell.execute_reply.started": "2022-12-04T15:06:40.311174Z"
    }
   },
   "outputs": [],
   "source": [
    "#plotting word cloud for Non Spam Text corpus\n",
    "Non_Spam_Subject_wordcloud = make_wordcloud (Text_corpus_non_spam , STOPWORDS)\n",
    "plt.figure(figsize=(13, 13))\n",
    "plt.title(\"Most common words in NON-Spam email\", fontdict={'size': 20, 'color': 'black', \n",
    "                                  'verticalalignment': 'bottom'})\n",
    "plt.imshow(Non_Spam_Subject_wordcloud)\n",
    "plt.axis(\"off\")\n",
    "plt.show()"
   ]
  },
  {
   "cell_type": "code",
   "execution_count": null,
   "metadata": {
    "execution": {
     "iopub.execute_input": "2022-12-04T15:06:42.977281Z",
     "iopub.status.busy": "2022-12-04T15:06:42.976568Z",
     "iopub.status.idle": "2022-12-04T15:06:43.096469Z",
     "shell.execute_reply": "2022-12-04T15:06:43.094759Z",
     "shell.execute_reply.started": "2022-12-04T15:06:42.977230Z"
    }
   },
   "outputs": [],
   "source": [
    "#create a corpus conatininga all the email text \n",
    "Email_text_corpus = []\n",
    "for line in Email_dataset['Email_text']:\n",
    "    words = line.split(\" \")\n",
    "    Email_text_corpus.append(words)"
   ]
  },
  {
   "cell_type": "code",
   "execution_count": null,
   "metadata": {
    "execution": {
     "iopub.execute_input": "2022-12-04T15:06:43.098538Z",
     "iopub.status.busy": "2022-12-04T15:06:43.098127Z",
     "iopub.status.idle": "2022-12-04T15:06:50.864363Z",
     "shell.execute_reply": "2022-12-04T15:06:50.863024Z",
     "shell.execute_reply.started": "2022-12-04T15:06:43.098504Z"
    }
   },
   "outputs": [],
   "source": [
    "#create a word2vec model for words in email text \n",
    "model = Word2Vec(Email_text_corpus, min_count=1, vector_size=56)"
   ]
  },
  {
   "cell_type": "code",
   "execution_count": null,
   "metadata": {
    "execution": {
     "iopub.execute_input": "2022-12-04T15:06:50.866419Z",
     "iopub.status.busy": "2022-12-04T15:06:50.866065Z",
     "iopub.status.idle": "2022-12-04T15:06:51.678967Z",
     "shell.execute_reply": "2022-12-04T15:06:51.677312Z",
     "shell.execute_reply.started": "2022-12-04T15:06:50.866379Z"
    }
   },
   "outputs": [],
   "source": [
    "X = model.wv[model.wv.key_to_index ]\n",
    "pca = PCA(n_components=2)\n",
    "result = pca.fit_transform(X)\n",
    "pca_df = pd.DataFrame(result, columns = ['x','y'])"
   ]
  },
  {
   "cell_type": "code",
   "execution_count": null,
   "metadata": {
    "execution": {
     "iopub.execute_input": "2022-12-04T15:06:51.702326Z",
     "iopub.status.busy": "2022-12-04T15:06:51.697940Z",
     "iopub.status.idle": "2022-12-04T15:06:53.246785Z",
     "shell.execute_reply": "2022-12-04T15:06:53.245567Z",
     "shell.execute_reply.started": "2022-12-04T15:06:51.702263Z"
    }
   },
   "outputs": [],
   "source": [
    "#visualizing the corpus as a word vector\n",
    "N = 1000000\n",
    "words = list(model.wv.key_to_index)\n",
    "fig = go.Figure(data=go.Scattergl(\n",
    "   x = pca_df['x'],\n",
    "   y = pca_df['y'],\n",
    "   mode='markers',\n",
    "   marker=dict(\n",
    "       color=np.random.randn(N),\n",
    "       colorscale='Viridis',\n",
    "       line_width=1\n",
    "   ),\n",
    "   text=words,\n",
    "   textposition=\"bottom center\"\n",
    "))\n",
    "\n",
    "fig.show()"
   ]
  },
  {
   "cell_type": "code",
   "execution_count": null,
   "metadata": {
    "execution": {
     "iopub.execute_input": "2022-12-04T15:06:53.248859Z",
     "iopub.status.busy": "2022-12-04T15:06:53.248096Z",
     "iopub.status.idle": "2022-12-04T15:06:53.263526Z",
     "shell.execute_reply": "2022-12-04T15:06:53.261736Z",
     "shell.execute_reply.started": "2022-12-04T15:06:53.248821Z"
    }
   },
   "outputs": [],
   "source": [
    "Email_dataset.head()"
   ]
  },
  {
   "cell_type": "code",
   "execution_count": null,
   "metadata": {
    "execution": {
     "iopub.execute_input": "2022-12-04T15:06:53.266369Z",
     "iopub.status.busy": "2022-12-04T15:06:53.265979Z",
     "iopub.status.idle": "2022-12-04T15:06:53.280528Z",
     "shell.execute_reply": "2022-12-04T15:06:53.278864Z",
     "shell.execute_reply.started": "2022-12-04T15:06:53.266338Z"
    }
   },
   "outputs": [],
   "source": [
    "#split email dataset \n",
    "X_train, X_test , y_train, y_test = train_test_split(Email_dataset['Email_text'], Email_dataset['Labels'] , test_size=0.3)"
   ]
  },
  {
   "cell_type": "code",
   "execution_count": null,
   "metadata": {
    "execution": {
     "iopub.execute_input": "2022-12-04T15:06:53.283630Z",
     "iopub.status.busy": "2022-12-04T15:06:53.282228Z",
     "iopub.status.idle": "2022-12-04T15:06:53.347071Z",
     "shell.execute_reply": "2022-12-04T15:06:53.346083Z",
     "shell.execute_reply.started": "2022-12-04T15:06:53.283561Z"
    }
   },
   "outputs": [],
   "source": [
    "#vectorize our training dataset \n",
    "Vectorizer = CountVectorizer()\n",
    "count= Vectorizer.fit_transform(X_train.values)"
   ]
  },
  {
   "cell_type": "code",
   "execution_count": null,
   "metadata": {
    "execution": {
     "iopub.execute_input": "2022-12-04T15:06:53.348816Z",
     "iopub.status.busy": "2022-12-04T15:06:53.348434Z",
     "iopub.status.idle": "2022-12-04T15:06:53.363634Z",
     "shell.execute_reply": "2022-12-04T15:06:53.362509Z",
     "shell.execute_reply.started": "2022-12-04T15:06:53.348784Z"
    }
   },
   "outputs": [],
   "source": [
    "#fit the dataset on multinomial naive bayes \n",
    "Spam_detection = MultinomialNB()\n",
    "targets = y_train.values\n",
    "Spam_detection.fit(count, targets)"
   ]
  },
  {
   "cell_type": "code",
   "execution_count": null,
   "metadata": {
    "execution": {
     "iopub.execute_input": "2022-12-04T15:06:53.366604Z",
     "iopub.status.busy": "2022-12-04T15:06:53.365350Z",
     "iopub.status.idle": "2022-12-04T15:06:53.378387Z",
     "shell.execute_reply": "2022-12-04T15:06:53.377114Z",
     "shell.execute_reply.started": "2022-12-04T15:06:53.366566Z"
    }
   },
   "outputs": [],
   "source": [
    "#make predictions \n",
    "y_predict = Spam_detection.predict(Vectorizer.transform(X_test))"
   ]
  },
  {
   "cell_type": "code",
   "execution_count": null,
   "metadata": {
    "execution": {
     "iopub.execute_input": "2022-12-04T15:06:53.380907Z",
     "iopub.status.busy": "2022-12-04T15:06:53.380115Z",
     "iopub.status.idle": "2022-12-04T15:06:53.398820Z",
     "shell.execute_reply": "2022-12-04T15:06:53.397679Z",
     "shell.execute_reply.started": "2022-12-04T15:06:53.380870Z"
    }
   },
   "outputs": [],
   "source": [
    "#test accuracy \n",
    "accuracy_score(y_test, y_predict)"
   ]
  },
  {
   "cell_type": "code",
   "execution_count": null,
   "metadata": {
    "execution": {
     "iopub.execute_input": "2022-12-04T15:06:53.401048Z",
     "iopub.status.busy": "2022-12-04T15:06:53.400622Z",
     "iopub.status.idle": "2022-12-04T15:06:53.412638Z",
     "shell.execute_reply": "2022-12-04T15:06:53.411480Z",
     "shell.execute_reply.started": "2022-12-04T15:06:53.401010Z"
    }
   },
   "outputs": [],
   "source": [
    "#create a confusion matrix \n",
    "cm = confusion_matrix(y_test,y_predict)\n",
    "sns.heatmap(cm, annot = True, fmt = 'd')\n",
    "plt.xlabel('Predicted')\n",
    "plt.ylabel('Actual')"
   ]
  },
  {
   "cell_type": "code",
   "execution_count": null,
   "metadata": {
    "execution": {
     "iopub.execute_input": "2022-12-04T15:06:53.698753Z",
     "iopub.status.busy": "2022-12-04T15:06:53.698078Z",
     "iopub.status.idle": "2022-12-04T15:06:53.712817Z",
     "shell.execute_reply": "2022-12-04T15:06:53.710863Z",
     "shell.execute_reply.started": "2022-12-04T15:06:53.698715Z"
    }
   },
   "outputs": [],
   "source": [
    "#print the classification report \n",
    "print(classification_report(y_test , y_predict))"
   ]
  },
  {
   "cell_type": "code",
   "execution_count": null,
   "metadata": {},
   "outputs": [],
   "source": [
    "#Test our model for emails not in dataset (spam mail)\n",
    "Email = ['Are you an experienced Python developer seeking a high-high-paying role with the flexibility to work remotely? Your dream remote role awaits you! Take a step towards it with Python Jump Start on Wednesday November 23rd at 8am PT 📅. With this 3-hour virtual event, you get thoroughly vetted for quality opportunities and stand a chance to make it to client interviews. Come prepared to pass the Python tests during the event as a high score will qualify you for the client interviews!']\n",
    "y_predict = Spam_detection.predict(Vectorizer.transform(Email))\n",
    "print(y_predict)"
   ]
  },
  {
   "cell_type": "code",
   "execution_count": null,
   "metadata": {},
   "outputs": [],
   "source": [
    "#Test our model for emails not in dataset (non spam mail)\n",
    "temp = [\"All Students are hereby informed that the 2nd Course/ Faculty Feedback of Fall-2022 semester has been enabled on Flex portal. You are advised to submit independent, fair, and transparent feedback of your concerned courses/teachers. \"]\n",
    "y_predict = Spam_detection.predict(Vectorizer.transform(temp))\n",
    "print(y_predict)"
   ]
  }
 ],
 "metadata": {
  "kernelspec": {
   "display_name": "Python 3 (ipykernel)",
   "language": "python",
   "name": "python3"
  },
  "language_info": {
   "codemirror_mode": {
    "name": "ipython",
    "version": 3
   },
   "file_extension": ".py",
   "mimetype": "text/x-python",
   "name": "python",
   "nbconvert_exporter": "python",
   "pygments_lexer": "ipython3",
   "version": "3.9.7"
  }
 },
 "nbformat": 4,
 "nbformat_minor": 4
}
